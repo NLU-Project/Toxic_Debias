{
 "cells": [
  {
   "cell_type": "code",
   "execution_count": 18,
   "metadata": {},
   "outputs": [],
   "source": [
    "import os\n",
    "import pandas as pd\n",
    "import numpy as np\n",
    "from sklearn.metrics import accuracy_score, f1_score, recall_score, roc_auc_score "
   ]
  },
  {
   "cell_type": "code",
   "execution_count": 3,
   "metadata": {},
   "outputs": [],
   "source": [
    "civil_path = '/scratch/sbp354/DSGA1012/Final_Project/models/civil_comments'\n",
    "model_names = ['roberta-large']\n",
    "data = {'roberta-large': 'finetune_civil_comments_challenge_civil_comments_results.csv'}"
   ]
  },
  {
   "cell_type": "code",
   "execution_count": 7,
   "metadata": {},
   "outputs": [],
   "source": [
    "for model in model_names:\n",
    "    df = pd.read_csv(os.path.join(civil_path , model , data[model]))"
   ]
  },
  {
   "cell_type": "code",
   "execution_count": 24,
   "metadata": {},
   "outputs": [
    {
     "data": {
      "text/plain": [
       "0.7617961364570489"
      ]
     },
     "execution_count": 24,
     "metadata": {},
     "output_type": "execute_result"
    }
   ],
   "source": [
    "accuracy_score(df.true_labels, df.predictions)"
   ]
  },
  {
   "cell_type": "code",
   "execution_count": 25,
   "metadata": {},
   "outputs": [
    {
     "data": {
      "text/plain": [
       "0.4066547222933197"
      ]
     },
     "execution_count": 25,
     "metadata": {},
     "output_type": "execute_result"
    }
   ],
   "source": [
    "f1_score(df.true_labels, df.predictions, average='binary')"
   ]
  },
  {
   "cell_type": "code",
   "execution_count": 27,
   "metadata": {},
   "outputs": [
    {
     "data": {
      "text/plain": [
       "0.6235531199740199"
      ]
     },
     "execution_count": 27,
     "metadata": {},
     "output_type": "execute_result"
    }
   ],
   "source": [
    "roc_auc_score(df.true_labels, df.predictions)"
   ]
  },
  {
   "cell_type": "code",
   "execution_count": 28,
   "metadata": {},
   "outputs": [
    {
     "data": {
      "text/plain": [
       "0.19849319006150673"
      ]
     },
     "execution_count": 28,
     "metadata": {},
     "output_type": "execute_result"
    }
   ],
   "source": [
    "roc_auc_score(df.true_labels, df.scores)"
   ]
  },
  {
   "cell_type": "code",
   "execution_count": 34,
   "metadata": {},
   "outputs": [
    {
     "data": {
      "text/plain": [
       "0.9807971551340939"
      ]
     },
     "execution_count": 34,
     "metadata": {},
     "output_type": "execute_result"
    }
   ],
   "source": [
    "#recall_score(df.true_labels, df.predictions)\n",
    "recall_score(df.true_labels, df.predictions, pos_label=0)"
   ]
  },
  {
   "cell_type": "code",
   "execution_count": 35,
   "metadata": {},
   "outputs": [
    {
     "data": {
      "text/plain": [
       "0.019202844865906066"
      ]
     },
     "execution_count": 35,
     "metadata": {},
     "output_type": "execute_result"
    }
   ],
   "source": [
    "1-recall_score(df.true_labels, df.predictions, pos_label=0)"
   ]
  },
  {
   "cell_type": "code",
   "execution_count": null,
   "metadata": {},
   "outputs": [],
   "source": [
    "def get_scores(df, model, binary):\n",
    "    \"\"\"\n",
    "    calculate relevant statistics for measuring bias.\n",
    "    \n",
    "    df: contains predictions and true_labels\n",
    "    Depending on the dataset df should also have associations of identity \n",
    "    related to the id which will be tied to the original index 'Unnamed: 0'\n",
    "    \n",
    "    model: name of the model\n",
    "    \n",
    "    binary: boolean for if its only binary toxicity\n",
    "    \"\"\"\n",
    "    predictions = df['predictions']\n",
    "    scores = df['scores']\n",
    "    labels = df['true_labels']\n",
    "    if binary:\n",
    "        f1_avg = 'binary'\n",
    "        recall_pos = recall_score(labels, prediction) #Not sure about how to use the threshold for these for now\n",
    "        recall_neg = recall_score(labels, prediction, pos_label=0) # Not sure about these \n",
    "        \n",
    "    acc = accuracy_score(labels, prediction)\n",
    "    f1 = f1_score(y_true = labels, y_pred = prediction, average=f1_avg)\n",
    "    \n",
    "    auc_roc = roc_auc_score(labels, scores)\n",
    "    \n",
    "    metrics  = {'accuracy': acc,\n",
    "                'f1': f1,\n",
    "                'auc-roc': auc_roc,\n",
    "                'recall_pos': recall_pos,  # FPR\n",
    "               }\n",
    "    return [acc,f1, 1-recall_neg]\n"
   ]
  }
 ],
 "metadata": {
  "kernelspec": {
   "display_name": "singularity_env",
   "language": "python",
   "name": "singularity_env"
  },
  "language_info": {
   "codemirror_mode": {
    "name": "ipython",
    "version": 3
   },
   "file_extension": ".py",
   "mimetype": "text/x-python",
   "name": "python",
   "nbconvert_exporter": "python",
   "pygments_lexer": "ipython3",
   "version": "3.9.12"
  }
 },
 "nbformat": 4,
 "nbformat_minor": 4
}
